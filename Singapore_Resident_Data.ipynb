{
 "cells": [
  {
   "cell_type": "code",
   "execution_count": null,
   "metadata": {},
   "outputs": [],
   "source": [
    "import pandas as pd\n",
    "import numpy as np\n",
    "import matplotlib.pyplot as plt\n",
    "import seaborn as sns"
   ]
  },
  {
   "cell_type": "code",
   "execution_count": null,
   "metadata": {},
   "outputs": [],
   "source": [
    "df = pd.read_csv('singapore-residents data.csv')\n",
    "df.head()"
   ]
  },
  {
   "cell_type": "markdown",
   "metadata": {},
   "source": [
    "1.Create columns for Male and Female . Female ethnic and Male Ethnic\n",
    "2.At what rate the Singaport population is increasing ?\n",
    "3.Which ethnic group has the highest represenation in Singapore?(current)In \n",
    "4.In last 10 years which ethinic group has shown highest increment in population ?\n",
    "5. In which years female poulation was higher than male population ?\n",
    "6. what is the trend in last 10 years for male and female population?\n",
    "7. What is trend of Chinese and Indian in last 10 years ?\n",
    "8.What is the avearge increase in Chinese population ?\n",
    "9. Is Chinese increasing at a higher rate compared to Indians?\n",
    "10.What is the Singaport population in 2019/2025 ?\n",
    "11.What will be population of Chinese in 2019/2125 ?\n",
    "12.What will be the population of Indians in 2019/2025 ?\n",
    "13.What will be the male population in 2019/2025 ?\n",
    "14.What will be the female population in 2019/2025 ?\n",
    "15.When will the population of Singapore reach 5 million ?"
   ]
  },
  {
   "cell_type": "code",
   "execution_count": null,
   "metadata": {},
   "outputs": [],
   "source": [
    "df.info()"
   ]
  },
  {
   "cell_type": "code",
   "execution_count": null,
   "metadata": {},
   "outputs": [],
   "source": [
    "#define empty columns\n",
    "df['Total_Residents'] = \"\"\n",
    "#assigning value in first column\n",
    "\n",
    "df['Total_Residents'] =  df.loc[df['level_1']=='Total Residents','value']\n",
    "df['Total_Male_Residents'] = \"\"\n",
    "df['Total_Female_Residents'] = \"\"\n",
    "df['Total_Malays'] = \"\"\n",
    "df['Total_Male_Malays'] =\"\"\n",
    "df['Total_Female_Malays'] =\"\"\n",
    "df['Total_Chinese'] =\"\"\n",
    "df['Total_Male_Chinese'] =\"\"\n",
    "df['Total_Female_Chinese'] =\"\"\n",
    "df['Total_Indians'] =\"\"\n",
    "df['Total_Male_Indians'] =\"\"\n",
    "df['Total_Female_Indians'] =\"\"\n",
    "df['Other_Ethnic_Groups_(Total)'] =\"\"\n",
    "df['Other_Ethnic_Groups_(Males)'] =\"\"\n",
    "df['Other_Ethnic_Groups_(Females)'] =\"\"\n"
   ]
  },
  {
   "cell_type": "code",
   "execution_count": null,
   "metadata": {},
   "outputs": [],
   "source": [
    "#assigning values into empty columns\n",
    "df['Total_Male_Residents'] =  df.loc[df['level_1']=='Total Male Residents','value']\n",
    "df['Total_Female_Residents'] =  df.loc[df['level_1']=='Total Female Residents','value']\n",
    "df['Total_Malays'] =  df.loc[df['level_1']=='Total Malays','value']\n",
    "df['Total_Male_Malays'] =  df.loc[df['level_1']=='Total Male Malays','value']\n",
    "df['Total_Female_Malays']  =  df.loc[df['level_1']=='Total Female Malays','value']\n",
    "df['Total_Chinese'] =  df.loc[df['level_1']=='Total Chinese','value']\n",
    "df['Total_Male_Chinese']=  df.loc[df['level_1']=='Total Male Chinese','value']\n",
    "df['Total_Female_Chinese'] =  df.loc[df['level_1']=='Total Female Chinese','value']\n",
    "df['Total_Indians'] =  df.loc[df['level_1']=='Total Indians','value']\n",
    "df['Total_Male_Indians'] =  df.loc[df['level_1']=='Total Male Indians','value']\n",
    "df['Total_Female_Indians'] =  df.loc[df['level_1']=='Total Female Indians','value']\n",
    "df['Other_Ethnic_Groups_(Total)'] =  df.loc[df['level_1']=='Other Ethnic Groups (Total)','value']\n",
    "df['Other_Ethnic_Groups_(Males)'] =  df.loc[df['level_1']=='Other Ethnic Groups (Males)','value']\n",
    "df['Other_Ethnic_Groups_(Females)'] =  df.loc[df['level_1']=='Other Ethnic Groups (Females)','value']"
   ]
  },
  {
   "cell_type": "code",
   "execution_count": null,
   "metadata": {},
   "outputs": [],
   "source": [
    "#drop level 1 and value columns \n",
    "df = df.drop(['level_1','value'],axis='columns')"
   ]
  },
  {
   "cell_type": "code",
   "execution_count": null,
   "metadata": {},
   "outputs": [],
   "source": [
    "#we will shift values in clumns so as to align with first instance of year\n",
    "i =2\n",
    "while (True):\n",
    "    p=(i-1)\n",
    "    df.iloc[:,i] = df.iloc[:,i].shift(-p)\n",
    "    i+=1\n",
    "    if i==16:\n",
    "        break\n",
    "    "
   ]
  },
  {
   "cell_type": "code",
   "execution_count": null,
   "metadata": {},
   "outputs": [],
   "source": [
    "#drop duplicate year keeping first instanance\n",
    "df = df.drop_duplicates(subset='year', keep='first')\n",
    "df.reset_index(drop=True, inplace=True)"
   ]
  },
  {
   "cell_type": "code",
   "execution_count": null,
   "metadata": {},
   "outputs": [],
   "source": [
    "df.head()"
   ]
  },
  {
   "cell_type": "code",
   "execution_count": null,
   "metadata": {},
   "outputs": [],
   "source": [
    "#convert dtypes into int for all columns\n",
    "for column in df:\n",
    "    df[column] = df[column].astype(int)"
   ]
  },
  {
   "cell_type": "code",
   "execution_count": null,
   "metadata": {},
   "outputs": [],
   "source": [
    "df.info()"
   ]
  },
  {
   "cell_type": "code",
   "execution_count": null,
   "metadata": {},
   "outputs": [],
   "source": [
    "df.head()"
   ]
  },
  {
   "cell_type": "markdown",
   "metadata": {},
   "source": [
    "DATA INTEGRITY CHECKS\n",
    "We need to do data integrity checks to ensure that total columns match individual splits. "
   ]
  },
  {
   "cell_type": "code",
   "execution_count": null,
   "metadata": {},
   "outputs": [],
   "source": [
    "#Check total Malay is some of male and female population\n",
    "total_malay_wrong = df.loc[df['Total_Male_Malays']+ df['Total_Female_Malays'] != df['Total_Malays']]\n",
    "total_malay_wrong"
   ]
  },
  {
   "cell_type": "code",
   "execution_count": null,
   "metadata": {},
   "outputs": [],
   "source": [
    "# whereever the Total Malay residents is not a sum of male and female populations correct them\n",
    "for values in total_malay_wrong.index.values:\n",
    "    df.iloc[values:,4] = df.iloc[values:,5] + df.iloc[values:,6]"
   ]
  },
  {
   "cell_type": "code",
   "execution_count": null,
   "metadata": {},
   "outputs": [],
   "source": [
    "total_chinese_wrong = df.loc[df['Total_Male_Chinese']+ df['Total_Female_Chinese'] != df['Total_Chinese']]\n",
    "total_chinese_wrong"
   ]
  },
  {
   "cell_type": "code",
   "execution_count": null,
   "metadata": {},
   "outputs": [],
   "source": [
    "# whereever the Total Chinese residents is not a sum of male and female populations correct them\n",
    "for values in total_chinese_wrong.index.values:\n",
    "    df.iloc[values:,7] = df.iloc[values:,8] + df.iloc[values:,9]"
   ]
  },
  {
   "cell_type": "code",
   "execution_count": null,
   "metadata": {},
   "outputs": [],
   "source": [
    "total_Indians_wrong = df.loc[df['Total_Male_Indians']+ df['Total_Female_Indians'] != df['Total_Indians']]\n",
    "total_Indians_wrong"
   ]
  },
  {
   "cell_type": "code",
   "execution_count": null,
   "metadata": {},
   "outputs": [],
   "source": [
    "# whereever the Total Indians residents is not a sum of male and female populations correct them\n",
    "for values in total_Indians_wrong.index.values:\n",
    "    df.iloc[values:,10] = df.iloc[values:,11] + df.iloc[values:,12]"
   ]
  },
  {
   "cell_type": "code",
   "execution_count": null,
   "metadata": {
    "scrolled": true
   },
   "outputs": [],
   "source": [
    "total_ethnic_wrong = df.loc[df['Other_Ethnic_Groups_(Males)']+ df['Other_Ethnic_Groups_(Females)'] != df['Other_Ethnic_Groups_(Total)']]\n",
    "total_ethnic_wrong"
   ]
  },
  {
   "cell_type": "code",
   "execution_count": null,
   "metadata": {},
   "outputs": [],
   "source": [
    "# whereever the Total ehnic residents is not a sum of male and female populations correct them\n",
    "for values in total_ethnic_wrong.index.values:\n",
    "    df.iloc[values:,13] = df.iloc[values:,14] + df.iloc[values:,15]"
   ]
  },
  {
   "cell_type": "code",
   "execution_count": null,
   "metadata": {},
   "outputs": [],
   "source": [
    "# Lets sum male and female columns to check integrity\n",
    "male_total_wrong = df.loc[df.iloc[:,2] != df.iloc[:,5]+df.iloc[:,8]+ df.iloc[:,11]+df.iloc[:,14]]\n",
    "male_total_wrong"
   ]
  },
  {
   "cell_type": "code",
   "execution_count": null,
   "metadata": {},
   "outputs": [],
   "source": [
    "for values in male_total_wrong.index.values:\n",
    "    df.iloc[values:,2] = df.iloc[values:,5]+df.iloc[values:,8]+ df.iloc[values:,11]+df.iloc[values:,14]"
   ]
  },
  {
   "cell_type": "code",
   "execution_count": null,
   "metadata": {},
   "outputs": [],
   "source": [
    "# checking female total with sum of individual columns\n",
    "female_total_wrong = df.loc[df.iloc[:,3] != df.iloc[:,6]+df.iloc[:,9]+ df.iloc[:,12]+df.iloc[:,15]]\n",
    "female_total_wrong"
   ]
  },
  {
   "cell_type": "code",
   "execution_count": null,
   "metadata": {},
   "outputs": [],
   "source": [
    "female_total_wrong.index.values"
   ]
  },
  {
   "cell_type": "code",
   "execution_count": null,
   "metadata": {},
   "outputs": [],
   "source": [
    "for values in female_total_wrong.index.values:\n",
    "    df.iloc[values,3] = df.iloc[values,6]+df.iloc[values,9]+ df.iloc[values,12]+df.iloc[values,15]"
   ]
  },
  {
   "cell_type": "code",
   "execution_count": 310,
   "metadata": {},
   "outputs": [
    {
     "data": {
      "text/html": [
       "<div>\n",
       "<style scoped>\n",
       "    .dataframe tbody tr th:only-of-type {\n",
       "        vertical-align: middle;\n",
       "    }\n",
       "\n",
       "    .dataframe tbody tr th {\n",
       "        vertical-align: top;\n",
       "    }\n",
       "\n",
       "    .dataframe thead th {\n",
       "        text-align: right;\n",
       "    }\n",
       "</style>\n",
       "<table border=\"1\" class=\"dataframe\">\n",
       "  <thead>\n",
       "    <tr style=\"text-align: right;\">\n",
       "      <th></th>\n",
       "      <th>year</th>\n",
       "      <th>Total_Residents</th>\n",
       "      <th>Total_Male_Residents</th>\n",
       "      <th>Total_Female_Residents</th>\n",
       "      <th>Total_Malays</th>\n",
       "      <th>Total_Male_Malays</th>\n",
       "      <th>Total_Female_Malays</th>\n",
       "      <th>Total_Chinese</th>\n",
       "      <th>Total_Male_Chinese</th>\n",
       "      <th>Total_Female_Chinese</th>\n",
       "      <th>Total_Indians</th>\n",
       "      <th>Total_Male_Indians</th>\n",
       "      <th>Total_Female_Indians</th>\n",
       "      <th>Other_Ethnic_Groups_(Total)</th>\n",
       "      <th>Other_Ethnic_Groups_(Males)</th>\n",
       "      <th>Other_Ethnic_Groups_(Females)</th>\n",
       "    </tr>\n",
       "  </thead>\n",
       "  <tbody>\n",
       "  </tbody>\n",
       "</table>\n",
       "</div>"
      ],
      "text/plain": [
       "Empty DataFrame\n",
       "Columns: [year, Total_Residents, Total_Male_Residents, Total_Female_Residents, Total_Malays, Total_Male_Malays, Total_Female_Malays, Total_Chinese, Total_Male_Chinese, Total_Female_Chinese, Total_Indians, Total_Male_Indians, Total_Female_Indians, Other_Ethnic_Groups_(Total), Other_Ethnic_Groups_(Males), Other_Ethnic_Groups_(Females)]\n",
       "Index: []"
      ]
     },
     "execution_count": 310,
     "metadata": {},
     "output_type": "execute_result"
    }
   ],
   "source": [
    "#check total residents is sum of male an female population\n",
    "total_wrong = df.loc[df['Total_Male_Residents']+ df['Total_Female_Residents'] != df['Total_Residents']]\n",
    "total_wrong"
   ]
  },
  {
   "cell_type": "markdown",
   "metadata": {},
   "source": [
    "NOW THE DATA IS CLEAN AND READY FOR ANALYSIS"
   ]
  },
  {
   "cell_type": "code",
   "execution_count": 311,
   "metadata": {},
   "outputs": [
    {
     "data": {
      "text/html": [
       "<div>\n",
       "<style scoped>\n",
       "    .dataframe tbody tr th:only-of-type {\n",
       "        vertical-align: middle;\n",
       "    }\n",
       "\n",
       "    .dataframe tbody tr th {\n",
       "        vertical-align: top;\n",
       "    }\n",
       "\n",
       "    .dataframe thead th {\n",
       "        text-align: right;\n",
       "    }\n",
       "</style>\n",
       "<table border=\"1\" class=\"dataframe\">\n",
       "  <thead>\n",
       "    <tr style=\"text-align: right;\">\n",
       "      <th></th>\n",
       "      <th>year</th>\n",
       "      <th>Total_Residents</th>\n",
       "      <th>Total_Male_Residents</th>\n",
       "      <th>Total_Female_Residents</th>\n",
       "      <th>Total_Malays</th>\n",
       "      <th>Total_Male_Malays</th>\n",
       "      <th>Total_Female_Malays</th>\n",
       "      <th>Total_Chinese</th>\n",
       "      <th>Total_Male_Chinese</th>\n",
       "      <th>Total_Female_Chinese</th>\n",
       "      <th>Total_Indians</th>\n",
       "      <th>Total_Male_Indians</th>\n",
       "      <th>Total_Female_Indians</th>\n",
       "      <th>Other_Ethnic_Groups_(Total)</th>\n",
       "      <th>Other_Ethnic_Groups_(Males)</th>\n",
       "      <th>Other_Ethnic_Groups_(Females)</th>\n",
       "    </tr>\n",
       "  </thead>\n",
       "  <tbody>\n",
       "    <tr>\n",
       "      <th>0</th>\n",
       "      <td>1960</td>\n",
       "      <td>1646400</td>\n",
       "      <td>859600</td>\n",
       "      <td>786800</td>\n",
       "      <td>232200</td>\n",
       "      <td>121000</td>\n",
       "      <td>111200</td>\n",
       "      <td>1251600</td>\n",
       "      <td>636000</td>\n",
       "      <td>615600</td>\n",
       "      <td>133200</td>\n",
       "      <td>88000</td>\n",
       "      <td>45200</td>\n",
       "      <td>29400</td>\n",
       "      <td>14600</td>\n",
       "      <td>14800</td>\n",
       "    </tr>\n",
       "    <tr>\n",
       "      <th>1</th>\n",
       "      <td>1961</td>\n",
       "      <td>1702400</td>\n",
       "      <td>886500</td>\n",
       "      <td>815900</td>\n",
       "      <td>242500</td>\n",
       "      <td>125700</td>\n",
       "      <td>116800</td>\n",
       "      <td>1295000</td>\n",
       "      <td>657600</td>\n",
       "      <td>637400</td>\n",
       "      <td>135700</td>\n",
       "      <td>88800</td>\n",
       "      <td>46900</td>\n",
       "      <td>29200</td>\n",
       "      <td>14400</td>\n",
       "      <td>14800</td>\n",
       "    </tr>\n",
       "  </tbody>\n",
       "</table>\n",
       "</div>"
      ],
      "text/plain": [
       "   year  Total_Residents  Total_Male_Residents  Total_Female_Residents  \\\n",
       "0  1960          1646400                859600                  786800   \n",
       "1  1961          1702400                886500                  815900   \n",
       "\n",
       "   Total_Malays  Total_Male_Malays  Total_Female_Malays  Total_Chinese  \\\n",
       "0        232200             121000               111200        1251600   \n",
       "1        242500             125700               116800        1295000   \n",
       "\n",
       "   Total_Male_Chinese  Total_Female_Chinese  Total_Indians  \\\n",
       "0              636000                615600         133200   \n",
       "1              657600                637400         135700   \n",
       "\n",
       "   Total_Male_Indians  Total_Female_Indians  Other_Ethnic_Groups_(Total)  \\\n",
       "0               88000                 45200                        29400   \n",
       "1               88800                 46900                        29200   \n",
       "\n",
       "   Other_Ethnic_Groups_(Males)  Other_Ethnic_Groups_(Females)  \n",
       "0                        14600                          14800  \n",
       "1                        14400                          14800  "
      ]
     },
     "execution_count": 311,
     "metadata": {},
     "output_type": "execute_result"
    }
   ],
   "source": [
    "df.head(2)"
   ]
  },
  {
   "cell_type": "markdown",
   "metadata": {},
   "source": [
    "# 2.At what rate the Singaport population is increasing ?"
   ]
  },
  {
   "cell_type": "code",
   "execution_count": 325,
   "metadata": {},
   "outputs": [
    {
     "data": {
      "image/png": "[encoded data removed]",
      "text/plain": [
       "<Figure size 432x288 with 1 Axes>"
      ]
     },
     "metadata": {
      "needs_background": "light"
     },
     "output_type": "display_data"
    }
   ],
   "source": [
    "df['Percent_increase'] = df['Total_Residents'].pct_change()\n",
    "df['Percent_increase'].fillna(0, inplace=True) \n",
    "plt.plot(df['year'],df['Percent_increase']*100)\n",
    "plt.xlabel('Year')\n",
    "plt.ylabel('Percent Change of Total Population')\n",
    "plt.show()"
   ]
  },
  {
   "cell_type": "markdown",
   "metadata": {},
   "source": [
    "In last 10 years the total population has been increasing at more or less constant at around 1%."
   ]
  },
  {
   "cell_type": "markdown",
   "metadata": {},
   "source": [
    "# Which ethnic group has the highest representation in Singapore?(current year)"
   ]
  },
  {
   "cell_type": "code",
   "execution_count": 327,
   "metadata": {},
   "outputs": [
    {
     "data": {
      "text/html": [
       "<div>\n",
       "<style scoped>\n",
       "    .dataframe tbody tr th:only-of-type {\n",
       "        vertical-align: middle;\n",
       "    }\n",
       "\n",
       "    .dataframe tbody tr th {\n",
       "        vertical-align: top;\n",
       "    }\n",
       "\n",
       "    .dataframe thead th {\n",
       "        text-align: right;\n",
       "    }\n",
       "</style>\n",
       "<table border=\"1\" class=\"dataframe\">\n",
       "  <thead>\n",
       "    <tr style=\"text-align: right;\">\n",
       "      <th></th>\n",
       "      <th>year</th>\n",
       "      <th>Total_Residents</th>\n",
       "      <th>Total_Male_Residents</th>\n",
       "      <th>Total_Female_Residents</th>\n",
       "      <th>Total_Malays</th>\n",
       "      <th>Total_Male_Malays</th>\n",
       "      <th>Total_Female_Malays</th>\n",
       "      <th>Total_Chinese</th>\n",
       "      <th>Total_Male_Chinese</th>\n",
       "      <th>Total_Female_Chinese</th>\n",
       "      <th>Total_Indians</th>\n",
       "      <th>Total_Male_Indians</th>\n",
       "      <th>Total_Female_Indians</th>\n",
       "      <th>Other_Ethnic_Groups_(Total)</th>\n",
       "      <th>Other_Ethnic_Groups_(Males)</th>\n",
       "      <th>Other_Ethnic_Groups_(Females)</th>\n",
       "      <th>Percent_increase</th>\n",
       "    </tr>\n",
       "  </thead>\n",
       "  <tbody>\n",
       "    <tr>\n",
       "      <th>57</th>\n",
       "      <td>2017</td>\n",
       "      <td>3965796</td>\n",
       "      <td>1943545</td>\n",
       "      <td>2022251</td>\n",
       "      <td>530710</td>\n",
       "      <td>263912</td>\n",
       "      <td>266798</td>\n",
       "      <td>2948252</td>\n",
       "      <td>1436284</td>\n",
       "      <td>1511968</td>\n",
       "      <td>358821</td>\n",
       "      <td>183818</td>\n",
       "      <td>175003</td>\n",
       "      <td>128013</td>\n",
       "      <td>59531</td>\n",
       "      <td>68482</td>\n",
       "      <td>0.008195</td>\n",
       "    </tr>\n",
       "    <tr>\n",
       "      <th>58</th>\n",
       "      <td>2018</td>\n",
       "      <td>3994283</td>\n",
       "      <td>1955838</td>\n",
       "      <td>2038445</td>\n",
       "      <td>535824</td>\n",
       "      <td>266486</td>\n",
       "      <td>269338</td>\n",
       "      <td>2969281</td>\n",
       "      <td>1445375</td>\n",
       "      <td>1523906</td>\n",
       "      <td>360528</td>\n",
       "      <td>184496</td>\n",
       "      <td>176032</td>\n",
       "      <td>128650</td>\n",
       "      <td>59481</td>\n",
       "      <td>69169</td>\n",
       "      <td>0.007183</td>\n",
       "    </tr>\n",
       "  </tbody>\n",
       "</table>\n",
       "</div>"
      ],
      "text/plain": [
       "    year  Total_Residents  Total_Male_Residents  Total_Female_Residents  \\\n",
       "57  2017          3965796               1943545                 2022251   \n",
       "58  2018          3994283               1955838                 2038445   \n",
       "\n",
       "    Total_Malays  Total_Male_Malays  Total_Female_Malays  Total_Chinese  \\\n",
       "57        530710             263912               266798        2948252   \n",
       "58        535824             266486               269338        2969281   \n",
       "\n",
       "    Total_Male_Chinese  Total_Female_Chinese  Total_Indians  \\\n",
       "57             1436284               1511968         358821   \n",
       "58             1445375               1523906         360528   \n",
       "\n",
       "    Total_Male_Indians  Total_Female_Indians  Other_Ethnic_Groups_(Total)  \\\n",
       "57              183818                175003                       128013   \n",
       "58              184496                176032                       128650   \n",
       "\n",
       "    Other_Ethnic_Groups_(Males)  Other_Ethnic_Groups_(Females)  \\\n",
       "57                        59531                          68482   \n",
       "58                        59481                          69169   \n",
       "\n",
       "    Percent_increase  \n",
       "57          0.008195  \n",
       "58          0.007183  "
      ]
     },
     "execution_count": 327,
     "metadata": {},
     "output_type": "execute_result"
    }
   ],
   "source": [
    "df.tail(2)"
   ]
  },
  {
   "cell_type": "code",
   "execution_count": 331,
   "metadata": {},
   "outputs": [
    {
     "data": {
      "image/png": "[encoded data removed]",
      "text/plain": [
       "<Figure size 432x288 with 1 Axes>"
      ]
     },
     "metadata": {},
     "output_type": "display_data"
    }
   ],
   "source": [
    "groups = [df.iloc[-1,4],df.iloc[-1,7],df.iloc[-1,10],df.iloc[-1,13]]\n",
    "my_labels = ['Malays','Chinese','Indians','Others']\n",
    "plt.pie(groups,labels=my_labels,autopct='%1.1f%%')\n",
    "plt.title('DISTRIBUTION OF ETHNIC POPULATION 2018')\n",
    "plt.axis('equal')\n",
    "plt.show()"
   ]
  },
  {
   "cell_type": "markdown",
   "metadata": {},
   "source": [
    "# In last 10 years which ethinic group has shown highest increment in population ?"
   ]
  },
  {
   "cell_type": "code",
   "execution_count": 332,
   "metadata": {},
   "outputs": [
    {
     "data": {
      "text/plain": [
       "Index(['year', 'Total_Residents', 'Total_Male_Residents',\n",
       "       'Total_Female_Residents', 'Total_Malays', 'Total_Male_Malays',\n",
       "       'Total_Female_Malays', 'Total_Chinese', 'Total_Male_Chinese',\n",
       "       'Total_Female_Chinese', 'Total_Indians', 'Total_Male_Indians',\n",
       "       'Total_Female_Indians', 'Other_Ethnic_Groups_(Total)',\n",
       "       'Other_Ethnic_Groups_(Males)', 'Other_Ethnic_Groups_(Females)',\n",
       "       'Percent_increase'],\n",
       "      dtype='object')"
      ]
     },
     "execution_count": 332,
     "metadata": {},
     "output_type": "execute_result"
    }
   ],
   "source": [
    "df.columns"
   ]
  },
  {
   "cell_type": "code",
   "execution_count": 335,
   "metadata": {},
   "outputs": [
    {
     "data": {
      "image/png": "[encoded data removed]",
      "text/plain": [
       "<Figure size 432x288 with 1 Axes>"
      ]
     },
     "metadata": {
      "needs_background": "light"
     },
     "output_type": "display_data"
    }
   ],
   "source": [
    "df['Malay_change'] = df['Total_Malays'].pct_change()\n",
    "df['Chinese_change'] = df['Total_Chinese'].pct_change()\n",
    "df['Indians_change'] = df['Total_Indians'].pct_change()\n",
    "df['Others_change'] = df['Other_Ethnic_Groups_(Total)'].pct_change()\n",
    "plt.plot(df['year'],df['Total_Malays']*100,label='Malay')\n",
    "plt.plot(df['year'],df['Total_Chinese']*100,label='Chinese')\n",
    "plt.plot(df['year'],df['Total_Indians']*100,label = 'Indians')\n",
    "plt.plot(df['year'],df['Other_Ethnic_Groups_(Total)']*100,label='Others')\n",
    "plt.title('PERCENTAGE CHANGE OF ETHNIC POPULATION IN SINAGPORE')\n",
    "plt.legend(loc='upper right')\n",
    "plt.xlabel('Year')\n",
    "plt.ylabel('Percent Change of Total Population')\n",
    "plt.show()"
   ]
  },
  {
   "cell_type": "markdown",
   "metadata": {},
   "source": [
    "In which years female poulation was higher than male population ?"
   ]
  },
  {
   "cell_type": "code",
   "execution_count": 358,
   "metadata": {},
   "outputs": [
    {
     "name": "stdout",
     "output_type": "stream",
     "text": [
      "The years in which female population was more than Male population are\n",
      " [1999 2000 2001 2002 2003 2004 2005 2006 2007 2008 2009 2010 2011 2012\n",
      " 2013 2014 2015 2016 2017 2018]\n",
      "Percentage years where female population was more : 34 %\n"
     ]
    }
   ],
   "source": [
    "more_female = df.loc[df['Total_Male_Residents'] < df['Total_Female_Residents']]\n",
    "print('The years in which female population was more than Male population are\\n',np.array(more_female['year']),end='')\n",
    "print('\\nPercentage years where female population was more :',int((len(more_female)/(2018-1960))*100),'%')"
   ]
  },
  {
   "cell_type": "markdown",
   "metadata": {},
   "source": [
    "what is the trend in last 10 years for male and female population?"
   ]
  },
  {
   "cell_type": "code",
   "execution_count": 362,
   "metadata": {},
   "outputs": [
    {
     "data": {
      "image/png": "[encoded data removed]",
      "text/plain": [
       "<Figure size 432x288 with 1 Axes>"
      ]
     },
     "metadata": {
      "needs_background": "light"
     },
     "output_type": "display_data"
    }
   ],
   "source": [
    "df_last10 = df.loc[df['year'] > 2007]\n",
    "plt.plot(df_last10['year'],df_last10['Total_Male_Residents'],label='Male Population')\n",
    "plt.plot(df_last10['year'],df_last10['Total_Female_Residents'],label='Female Population')\n",
    "plt.legend(loc='upper right')\n",
    "plt.xlabel('Year')\n",
    "plt.ylabel('Trend of Male/Female Population')\n",
    "plt.show()"
   ]
  },
  {
   "cell_type": "markdown",
   "metadata": {},
   "source": [
    "What is trend of Chinese and Indian in last 10 years ?"
   ]
  },
  {
   "cell_type": "code",
   "execution_count": 366,
   "metadata": {},
   "outputs": [
    {
     "data": {
      "image/png": "[encoded data removed]",
      "text/plain": [
       "<Figure size 432x288 with 1 Axes>"
      ]
     },
     "metadata": {
      "needs_background": "light"
     },
     "output_type": "display_data"
    }
   ],
   "source": [
    "plt.plot(df_last10['year'],df_last10['Total_Chinese'],label='Chinese')\n",
    "plt.plot(df_last10['year'],df_last10['Total_Indians'],label='Indians')\n",
    "plt.legend(loc='upper right')\n",
    "plt.xlabel('Year')\n",
    "plt.ylabel('Chinese/Indian Population')\n",
    "plt.title('TREND OF CHINESE/INDIAN POPULATION 2008-2018 SINGAPORE\\n')\n",
    "plt.show()"
   ]
  },
  {
   "cell_type": "markdown",
   "metadata": {},
   "source": [
    "\n",
    "10.What is the Singaport population in 2019/2025 ?\n",
    "11.What will be population of Chinese in 2019/2125 ?\n",
    "12.What will be the population of Indians in 2019/2025 ?\n",
    "13.What will be the male population in 2019/2025 ?\n",
    "14.What will be the female population in 2019/2025 ?\n",
    "15.When will the population of Singapore reach 5 million ?"
   ]
  },
  {
   "cell_type": "markdown",
   "metadata": {},
   "source": [
    "What is the avearge increase in Chinese population ?"
   ]
  },
  {
   "cell_type": "code",
   "execution_count": 367,
   "metadata": {},
   "outputs": [
    {
     "data": {
      "text/html": [
       "<div>\n",
       "<style scoped>\n",
       "    .dataframe tbody tr th:only-of-type {\n",
       "        vertical-align: middle;\n",
       "    }\n",
       "\n",
       "    .dataframe tbody tr th {\n",
       "        vertical-align: top;\n",
       "    }\n",
       "\n",
       "    .dataframe thead th {\n",
       "        text-align: right;\n",
       "    }\n",
       "</style>\n",
       "<table border=\"1\" class=\"dataframe\">\n",
       "  <thead>\n",
       "    <tr style=\"text-align: right;\">\n",
       "      <th></th>\n",
       "      <th>year</th>\n",
       "      <th>Total_Residents</th>\n",
       "      <th>Total_Male_Residents</th>\n",
       "      <th>Total_Female_Residents</th>\n",
       "      <th>Total_Malays</th>\n",
       "      <th>Total_Male_Malays</th>\n",
       "      <th>Total_Female_Malays</th>\n",
       "      <th>Total_Chinese</th>\n",
       "      <th>Total_Male_Chinese</th>\n",
       "      <th>Total_Female_Chinese</th>\n",
       "      <th>...</th>\n",
       "      <th>Total_Male_Indians</th>\n",
       "      <th>Total_Female_Indians</th>\n",
       "      <th>Other_Ethnic_Groups_(Total)</th>\n",
       "      <th>Other_Ethnic_Groups_(Males)</th>\n",
       "      <th>Other_Ethnic_Groups_(Females)</th>\n",
       "      <th>Percent_increase</th>\n",
       "      <th>Malay_change</th>\n",
       "      <th>Chinese_change</th>\n",
       "      <th>Indians_change</th>\n",
       "      <th>Others_change</th>\n",
       "    </tr>\n",
       "  </thead>\n",
       "  <tbody>\n",
       "    <tr>\n",
       "      <th>0</th>\n",
       "      <td>1960</td>\n",
       "      <td>1646400</td>\n",
       "      <td>859600</td>\n",
       "      <td>786800</td>\n",
       "      <td>232200</td>\n",
       "      <td>121000</td>\n",
       "      <td>111200</td>\n",
       "      <td>1251600</td>\n",
       "      <td>636000</td>\n",
       "      <td>615600</td>\n",
       "      <td>...</td>\n",
       "      <td>88000</td>\n",
       "      <td>45200</td>\n",
       "      <td>29400</td>\n",
       "      <td>14600</td>\n",
       "      <td>14800</td>\n",
       "      <td>0.000000</td>\n",
       "      <td>NaN</td>\n",
       "      <td>NaN</td>\n",
       "      <td>NaN</td>\n",
       "      <td>NaN</td>\n",
       "    </tr>\n",
       "    <tr>\n",
       "      <th>1</th>\n",
       "      <td>1961</td>\n",
       "      <td>1702400</td>\n",
       "      <td>886500</td>\n",
       "      <td>815900</td>\n",
       "      <td>242500</td>\n",
       "      <td>125700</td>\n",
       "      <td>116800</td>\n",
       "      <td>1295000</td>\n",
       "      <td>657600</td>\n",
       "      <td>637400</td>\n",
       "      <td>...</td>\n",
       "      <td>88800</td>\n",
       "      <td>46900</td>\n",
       "      <td>29200</td>\n",
       "      <td>14400</td>\n",
       "      <td>14800</td>\n",
       "      <td>0.034014</td>\n",
       "      <td>0.044358</td>\n",
       "      <td>0.034676</td>\n",
       "      <td>0.018769</td>\n",
       "      <td>-0.006803</td>\n",
       "    </tr>\n",
       "  </tbody>\n",
       "</table>\n",
       "<p>2 rows × 21 columns</p>\n",
       "</div>"
      ],
      "text/plain": [
       "   year  Total_Residents  Total_Male_Residents  Total_Female_Residents  \\\n",
       "0  1960          1646400                859600                  786800   \n",
       "1  1961          1702400                886500                  815900   \n",
       "\n",
       "   Total_Malays  Total_Male_Malays  Total_Female_Malays  Total_Chinese  \\\n",
       "0        232200             121000               111200        1251600   \n",
       "1        242500             125700               116800        1295000   \n",
       "\n",
       "   Total_Male_Chinese  Total_Female_Chinese  ...  Total_Male_Indians  \\\n",
       "0              636000                615600  ...               88000   \n",
       "1              657600                637400  ...               88800   \n",
       "\n",
       "   Total_Female_Indians  Other_Ethnic_Groups_(Total)  \\\n",
       "0                 45200                        29400   \n",
       "1                 46900                        29200   \n",
       "\n",
       "   Other_Ethnic_Groups_(Males)  Other_Ethnic_Groups_(Females)  \\\n",
       "0                        14600                          14800   \n",
       "1                        14400                          14800   \n",
       "\n",
       "   Percent_increase  Malay_change  Chinese_change  Indians_change  \\\n",
       "0          0.000000           NaN             NaN             NaN   \n",
       "1          0.034014      0.044358        0.034676        0.018769   \n",
       "\n",
       "   Others_change  \n",
       "0            NaN  \n",
       "1      -0.006803  \n",
       "\n",
       "[2 rows x 21 columns]"
      ]
     },
     "execution_count": 367,
     "metadata": {},
     "output_type": "execute_result"
    }
   ],
   "source": [
    "df.head(2)"
   ]
  },
  {
   "cell_type": "code",
   "execution_count": 373,
   "metadata": {},
   "outputs": [
    {
     "name": "stdout",
     "output_type": "stream",
     "text": [
      "Average increase of Chinese population every year from 1960-2018 is 1.5 %\n"
     ]
    }
   ],
   "source": [
    "mean_change_chinese = round((df['Chinese_change'].mean())*100,2)\n",
    "print('Average increase of Chinese population every year from 1960-2018 is',mean_change_chinese,'%')"
   ]
  },
  {
   "cell_type": "markdown",
   "metadata": {},
   "source": [
    "Is Chinese increasing at a higher rate compared to Indians?\n",
    "\n",
    "Yes that is correct as we have seen in our previous analysis."
   ]
  },
  {
   "cell_type": "code",
   "execution_count": null,
   "metadata": {},
   "outputs": [],
   "source": []
  }
 ],
 "metadata": {
  "kernelspec": {
   "display_name": "Python 3",
   "language": "python",
   "name": "python3"
  },
  "language_info": {
   "codemirror_mode": {
    "name": "ipython",
    "version": 3
   },
   "file_extension": ".py",
   "mimetype": "text/x-python",
   "name": "python",
   "nbconvert_exporter": "python",
   "pygments_lexer": "ipython3",
   "version": "3.8.3"
  }
 },
 "nbformat": 4,
 "nbformat_minor": 4
}
